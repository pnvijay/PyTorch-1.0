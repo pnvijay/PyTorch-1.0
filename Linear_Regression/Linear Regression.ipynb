{
 "cells": [
  {
   "cell_type": "markdown",
   "metadata": {},
   "source": [
    "### About the Notebook\n",
    "This note book is to go through PyTorch right from the basics all the way to the advanced stuff. We will start off building a Linear Regression Model from Scratch using PyTorch"
   ]
  },
  {
   "cell_type": "markdown",
   "metadata": {},
   "source": [
    "Import Torch and Check it's version"
   ]
  },
  {
   "cell_type": "code",
   "execution_count": 1,
   "metadata": {},
   "outputs": [
    {
     "name": "stdout",
     "output_type": "stream",
     "text": [
      "1.0.1.post2\n"
     ]
    }
   ],
   "source": [
    "import torch\n",
    "print(torch.__version__)"
   ]
  },
  {
   "cell_type": "markdown",
   "metadata": {},
   "source": [
    "Let's create the data required for the Linear Model to Predict. We will create a numpy array containing random numbers generated. We will transform it into another value using a linear equation. Since numpy is needed let's import that as well."
   ]
  },
  {
   "cell_type": "code",
   "execution_count": 2,
   "metadata": {},
   "outputs": [],
   "source": [
    "import numpy as np"
   ]
  },
  {
   "cell_type": "markdown",
   "metadata": {},
   "source": [
    "We will need to specify the number of rows and columns needed while generating the random numbers. Even if the number of columns is just one, it still needs to be specified"
   ]
  },
  {
   "cell_type": "code",
   "execution_count": 3,
   "metadata": {},
   "outputs": [],
   "source": [
    "x = np.random.rand(10,1)"
   ]
  },
  {
   "cell_type": "code",
   "execution_count": 4,
   "metadata": {},
   "outputs": [
    {
     "data": {
      "text/plain": [
       "array([[0.0101604 ],\n",
       "       [0.16606206],\n",
       "       [0.44495272],\n",
       "       [0.20708329],\n",
       "       [0.12110844],\n",
       "       [0.22455227],\n",
       "       [0.73284502],\n",
       "       [0.87413208],\n",
       "       [0.22005854],\n",
       "       [0.57183497]])"
      ]
     },
     "execution_count": 4,
     "metadata": {},
     "output_type": "execute_result"
    }
   ],
   "source": [
    "x"
   ]
  },
  {
   "cell_type": "code",
   "execution_count": 5,
   "metadata": {},
   "outputs": [
    {
     "data": {
      "text/plain": [
       "((10, 1), dtype('float64'), numpy.ndarray)"
      ]
     },
     "execution_count": 5,
     "metadata": {},
     "output_type": "execute_result"
    }
   ],
   "source": [
    "x.shape,x.dtype,type(x)"
   ]
  },
  {
   "cell_type": "markdown",
   "metadata": {},
   "source": [
    "Generate y from a Linear Equation y=2x+4.5"
   ]
  },
  {
   "cell_type": "code",
   "execution_count": 6,
   "metadata": {},
   "outputs": [],
   "source": [
    "y = 2*x+5"
   ]
  },
  {
   "cell_type": "code",
   "execution_count": 7,
   "metadata": {},
   "outputs": [
    {
     "data": {
      "text/plain": [
       "array([[5.0203208 ],\n",
       "       [5.33212412],\n",
       "       [5.88990544],\n",
       "       [5.41416659],\n",
       "       [5.24221688],\n",
       "       [5.44910455],\n",
       "       [6.46569003],\n",
       "       [6.74826415],\n",
       "       [5.44011709],\n",
       "       [6.14366994]])"
      ]
     },
     "execution_count": 7,
     "metadata": {},
     "output_type": "execute_result"
    }
   ],
   "source": [
    "y"
   ]
  },
  {
   "cell_type": "code",
   "execution_count": 8,
   "metadata": {},
   "outputs": [
    {
     "data": {
      "text/plain": [
       "((10, 1), dtype('float64'), numpy.ndarray)"
      ]
     },
     "execution_count": 8,
     "metadata": {},
     "output_type": "execute_result"
    }
   ],
   "source": [
    "y.shape,y.dtype,type(y)"
   ]
  },
  {
   "cell_type": "markdown",
   "metadata": {},
   "source": [
    "### Create the Linear Model\n",
    "Import the torch.nn module"
   ]
  },
  {
   "cell_type": "code",
   "execution_count": 9,
   "metadata": {},
   "outputs": [],
   "source": [
    "import torch.nn as nn"
   ]
  },
  {
   "cell_type": "markdown",
   "metadata": {},
   "source": [
    "Create the linear model using nn.Linear and specify how many features come in and how many is required to be predicted. Here we have three features coming in and three features in y predicted."
   ]
  },
  {
   "cell_type": "markdown",
   "metadata": {},
   "source": [
    "Check the weights and bias of the model using model.weights and model.bias"
   ]
  },
  {
   "cell_type": "code",
   "execution_count": 10,
   "metadata": {},
   "outputs": [
    {
     "name": "stdout",
     "output_type": "stream",
     "text": [
      "Parameter containing:\n",
      "tensor([[0.7161]], requires_grad=True)\n",
      "Parameter containing:\n",
      "tensor([-0.7841], requires_grad=True)\n"
     ]
    }
   ],
   "source": [
    "model = nn.Linear(1,1)\n",
    "print(model.weight)\n",
    "print(model.bias)"
   ]
  },
  {
   "cell_type": "markdown",
   "metadata": {},
   "source": [
    "PyTorch has initialised a model above with weights and bias. It has also set them to be ready for gradient descent updation by specifying requires_grad=True"
   ]
  },
  {
   "cell_type": "markdown",
   "metadata": {},
   "source": [
    "### Create the Dataset and Dataloader"
   ]
  },
  {
   "cell_type": "code",
   "execution_count": 11,
   "metadata": {},
   "outputs": [],
   "source": [
    "from torch.utils.data import TensorDataset, DataLoader"
   ]
  },
  {
   "cell_type": "markdown",
   "metadata": {},
   "source": [
    "Convert the numpy array to torch tensors and specify that it is of type float. Else there might be a float vs double expectation error during runtime. Make them into a dataset using TensorDataset. Convert the dataset into loadable batches using Dataloader."
   ]
  },
  {
   "cell_type": "code",
   "execution_count": 12,
   "metadata": {},
   "outputs": [],
   "source": [
    "inputs = torch.from_numpy(x).float()\n",
    "targets = torch.from_numpy(y).float()\n",
    "ds = TensorDataset(inputs,targets)\n",
    "dl = DataLoader(ds,batch_size=5,shuffle=True)"
   ]
  },
  {
   "cell_type": "markdown",
   "metadata": {},
   "source": [
    "### Provide a Loss Function and Optimizer"
   ]
  },
  {
   "cell_type": "markdown",
   "metadata": {},
   "source": [
    "We will import torch.nn.functional and use the inbuilt mean squared error loss function for the model. For Optimizing the weights using gradient descent, let's use the Stochastic Gradient Descent. To the optimizer, we will pass in the parameters (model.parameters()) that needs to be optimized along with a learning rate."
   ]
  },
  {
   "cell_type": "code",
   "execution_count": 13,
   "metadata": {},
   "outputs": [],
   "source": [
    "import torch.nn.functional as F\n",
    "loss_fn = F.mse_loss\n",
    "opt = torch.optim.SGD(model.parameters(),lr=0.001)"
   ]
  },
  {
   "cell_type": "markdown",
   "metadata": {},
   "source": [
    "### Define a Fit Function to run epochs and fit the model\n",
    "\n",
    "The dataloader will provide the datasets into batches of size equal to barch_size. Each batch will run through the model and the prediction from the model will be evaluated against actual for the loss function. The optimizer will step in and try to miminize the loss using gradient descent (Stochastic Gradient Descent) and update the weight and bias accordingly"
   ]
  },
  {
   "cell_type": "code",
   "execution_count": 14,
   "metadata": {},
   "outputs": [],
   "source": [
    "def fit(num_epochs,model,loss_fn,opt,dl):\n",
    "    for i in range(num_epochs):\n",
    "        for xb,yb in dl:\n",
    "            y_hat = model(xb)\n",
    "            loss = loss_fn(y_hat,yb)\n",
    "            loss.backward()\n",
    "            opt.step()\n",
    "            opt.zero_grad()\n",
    "        if (i+1)%100 == 0:\n",
    "            print('Epoch : {}/{} Loss: {}'.format((i+1),num_epochs,loss.item()))"
   ]
  },
  {
   "cell_type": "code",
   "execution_count": 15,
   "metadata": {},
   "outputs": [
    {
     "name": "stdout",
     "output_type": "stream",
     "text": [
      "Epoch : 100/5000 Loss: 15.369386672973633\n",
      "Epoch : 200/5000 Loss: 6.410043239593506\n",
      "Epoch : 300/5000 Loss: 2.741968870162964\n",
      "Epoch : 400/5000 Loss: 1.0552864074707031\n",
      "Epoch : 500/5000 Loss: 0.4463965594768524\n",
      "Epoch : 600/5000 Loss: 0.20655648410320282\n",
      "Epoch : 700/5000 Loss: 0.09484745562076569\n",
      "Epoch : 800/5000 Loss: 0.03551226109266281\n",
      "Epoch : 900/5000 Loss: 0.046172868460416794\n",
      "Epoch : 1000/5000 Loss: 0.026620179414749146\n",
      "Epoch : 1100/5000 Loss: 0.03581564128398895\n",
      "Epoch : 1200/5000 Loss: 0.039320603013038635\n",
      "Epoch : 1300/5000 Loss: 0.017418140545487404\n",
      "Epoch : 1400/5000 Loss: 0.017309091985225677\n",
      "Epoch : 1500/5000 Loss: 0.02626747079193592\n",
      "Epoch : 1600/5000 Loss: 0.022478291764855385\n",
      "Epoch : 1700/5000 Loss: 0.023599358275532722\n",
      "Epoch : 1800/5000 Loss: 0.0317561998963356\n",
      "Epoch : 1900/5000 Loss: 0.013441251590847969\n",
      "Epoch : 2000/5000 Loss: 0.020413029938936234\n",
      "Epoch : 2100/5000 Loss: 0.022703321650624275\n",
      "Epoch : 2200/5000 Loss: 0.015249463729560375\n",
      "Epoch : 2300/5000 Loss: 0.009372014552354813\n",
      "Epoch : 2400/5000 Loss: 0.008700624108314514\n",
      "Epoch : 2500/5000 Loss: 0.01284280326217413\n",
      "Epoch : 2600/5000 Loss: 0.012393193319439888\n",
      "Epoch : 2700/5000 Loss: 0.015961335971951485\n",
      "Epoch : 2800/5000 Loss: 0.009210413321852684\n",
      "Epoch : 2900/5000 Loss: 0.013029316440224648\n",
      "Epoch : 3000/5000 Loss: 0.011103413067758083\n",
      "Epoch : 3100/5000 Loss: 0.006623265333473682\n",
      "Epoch : 3200/5000 Loss: 0.012863405048847198\n",
      "Epoch : 3300/5000 Loss: 0.011086144484579563\n",
      "Epoch : 3400/5000 Loss: 0.007474944926798344\n",
      "Epoch : 3500/5000 Loss: 0.00816317368298769\n",
      "Epoch : 3600/5000 Loss: 0.0026894770562648773\n",
      "Epoch : 3700/5000 Loss: 0.009128249250352383\n",
      "Epoch : 3800/5000 Loss: 0.00972848478704691\n",
      "Epoch : 3900/5000 Loss: 0.0028429683297872543\n",
      "Epoch : 4000/5000 Loss: 0.00712165841832757\n",
      "Epoch : 4100/5000 Loss: 0.005532559938728809\n",
      "Epoch : 4200/5000 Loss: 0.003346148179844022\n",
      "Epoch : 4300/5000 Loss: 0.005141738802194595\n",
      "Epoch : 4400/5000 Loss: 0.003448694245889783\n",
      "Epoch : 4500/5000 Loss: 0.00312127941288054\n",
      "Epoch : 4600/5000 Loss: 0.005327487830072641\n",
      "Epoch : 4700/5000 Loss: 0.0033218776807188988\n",
      "Epoch : 4800/5000 Loss: 0.005681202746927738\n",
      "Epoch : 4900/5000 Loss: 0.004895825404673815\n",
      "Epoch : 5000/5000 Loss: 0.0038069358561187983\n"
     ]
    }
   ],
   "source": [
    "fit(5000,model,loss_fn,opt,dl)"
   ]
  },
  {
   "cell_type": "code",
   "execution_count": 16,
   "metadata": {},
   "outputs": [
    {
     "name": "stdout",
     "output_type": "stream",
     "text": [
      "Parameter containing:\n",
      "tensor([[2.2219]], requires_grad=True)\n",
      "Parameter containing:\n",
      "tensor([4.9152], requires_grad=True)\n"
     ]
    },
    {
     "data": {
      "text/plain": [
       "(None, None)"
      ]
     },
     "execution_count": 16,
     "metadata": {},
     "output_type": "execute_result"
    }
   ],
   "source": [
    "print(model.weight),print(model.bias)"
   ]
  }
 ],
 "metadata": {
  "kernelspec": {
   "display_name": "Python [conda env:PyTF]",
   "language": "python",
   "name": "conda-env-PyTF-py"
  },
  "language_info": {
   "codemirror_mode": {
    "name": "ipython",
    "version": 3
   },
   "file_extension": ".py",
   "mimetype": "text/x-python",
   "name": "python",
   "nbconvert_exporter": "python",
   "pygments_lexer": "ipython3",
   "version": "3.7.2"
  }
 },
 "nbformat": 4,
 "nbformat_minor": 2
}
