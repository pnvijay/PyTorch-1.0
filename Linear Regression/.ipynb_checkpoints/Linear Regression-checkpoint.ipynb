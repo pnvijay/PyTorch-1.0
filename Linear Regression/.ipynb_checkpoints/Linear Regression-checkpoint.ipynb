{
 "cells": [
  {
   "cell_type": "markdown",
   "metadata": {},
   "source": [
    "### About the Notebook\n",
    "This note book is to go through PyTorch right from the basics all the way to the advanced stuff. We will start off building a Linear Regression Model from Scratch using PyTorch"
   ]
  },
  {
   "cell_type": "markdown",
   "metadata": {},
   "source": [
    "Import Torch and Check it's version"
   ]
  },
  {
   "cell_type": "code",
   "execution_count": 1,
   "metadata": {},
   "outputs": [
    {
     "name": "stdout",
     "output_type": "stream",
     "text": [
      "1.0.1.post2\n"
     ]
    }
   ],
   "source": [
    "import torch\n",
    "print(torch.__version__)"
   ]
  },
  {
   "cell_type": "markdown",
   "metadata": {},
   "source": [
    "Let's create the data required for the Linear Model to Predict. We will create a numpy array containing random numbers generated. We will transform it into another value using a linear equation. Since numpy is needed let's import that as well."
   ]
  },
  {
   "cell_type": "code",
   "execution_count": 2,
   "metadata": {},
   "outputs": [],
   "source": [
    "import numpy as np"
   ]
  },
  {
   "cell_type": "markdown",
   "metadata": {},
   "source": [
    "We will need to specify the number of rows and columns needed while generating the random numbers. Even if the number of columns is just one, it still needs to be specified"
   ]
  },
  {
   "cell_type": "code",
   "execution_count": 3,
   "metadata": {},
   "outputs": [],
   "source": [
    "x = np.random.rand(10,1)"
   ]
  },
  {
   "cell_type": "code",
   "execution_count": 4,
   "metadata": {},
   "outputs": [
    {
     "data": {
      "text/plain": [
       "array([[0.11462445],\n",
       "       [0.5470953 ],\n",
       "       [0.60928189],\n",
       "       [0.93921406],\n",
       "       [0.66080834],\n",
       "       [0.84115813],\n",
       "       [0.74512818],\n",
       "       [0.81466145],\n",
       "       [0.99118973],\n",
       "       [0.42932688]])"
      ]
     },
     "execution_count": 4,
     "metadata": {},
     "output_type": "execute_result"
    }
   ],
   "source": [
    "x"
   ]
  },
  {
   "cell_type": "code",
   "execution_count": 5,
   "metadata": {},
   "outputs": [
    {
     "data": {
      "text/plain": [
       "((10, 1), dtype('float64'), numpy.ndarray)"
      ]
     },
     "execution_count": 5,
     "metadata": {},
     "output_type": "execute_result"
    }
   ],
   "source": [
    "x.shape,x.dtype,type(x)"
   ]
  },
  {
   "cell_type": "markdown",
   "metadata": {},
   "source": [
    "Generate y from a Linear Equation y=2x+4.5"
   ]
  },
  {
   "cell_type": "code",
   "execution_count": 6,
   "metadata": {},
   "outputs": [],
   "source": [
    "y = 2*x+5"
   ]
  },
  {
   "cell_type": "code",
   "execution_count": 7,
   "metadata": {},
   "outputs": [
    {
     "data": {
      "text/plain": [
       "array([[5.22924889],\n",
       "       [6.09419061],\n",
       "       [6.21856378],\n",
       "       [6.87842813],\n",
       "       [6.32161667],\n",
       "       [6.68231627],\n",
       "       [6.49025636],\n",
       "       [6.6293229 ],\n",
       "       [6.98237947],\n",
       "       [5.85865376]])"
      ]
     },
     "execution_count": 7,
     "metadata": {},
     "output_type": "execute_result"
    }
   ],
   "source": [
    "y"
   ]
  },
  {
   "cell_type": "code",
   "execution_count": 8,
   "metadata": {},
   "outputs": [
    {
     "data": {
      "text/plain": [
       "((10, 1), dtype('float64'), numpy.ndarray)"
      ]
     },
     "execution_count": 8,
     "metadata": {},
     "output_type": "execute_result"
    }
   ],
   "source": [
    "y.shape,y.dtype,type(y)"
   ]
  },
  {
   "cell_type": "markdown",
   "metadata": {},
   "source": [
    "### Create the Linear Model\n",
    "Import the torch.nn module"
   ]
  },
  {
   "cell_type": "code",
   "execution_count": 9,
   "metadata": {},
   "outputs": [],
   "source": [
    "import torch.nn as nn"
   ]
  },
  {
   "cell_type": "markdown",
   "metadata": {},
   "source": [
    "Create the linear model using nn.Linear and specify how many features come in and how many is required to be predicted. Here we have three features coming in and three features in y predicted."
   ]
  },
  {
   "cell_type": "markdown",
   "metadata": {},
   "source": [
    "Check the weights and bias of the model using model.weights and model.bias"
   ]
  },
  {
   "cell_type": "code",
   "execution_count": 10,
   "metadata": {},
   "outputs": [
    {
     "name": "stdout",
     "output_type": "stream",
     "text": [
      "Parameter containing:\n",
      "tensor([[0.5701]], requires_grad=True)\n",
      "Parameter containing:\n",
      "tensor([-0.7250], requires_grad=True)\n"
     ]
    }
   ],
   "source": [
    "model = nn.Linear(1,1)\n",
    "print(model.weight)\n",
    "print(model.bias)"
   ]
  },
  {
   "cell_type": "markdown",
   "metadata": {},
   "source": [
    "PyTorch has initialised a model above with weights and bias. It has also set them to be ready for gradient descent updation by specifying requires_grad=True"
   ]
  },
  {
   "cell_type": "markdown",
   "metadata": {},
   "source": [
    "### Create the Dataset and Dataloader"
   ]
  },
  {
   "cell_type": "code",
   "execution_count": 11,
   "metadata": {},
   "outputs": [],
   "source": [
    "from torch.utils.data import TensorDataset, DataLoader"
   ]
  },
  {
   "cell_type": "markdown",
   "metadata": {},
   "source": [
    "Convert the numpy array to torch tensors and specify that it is of type float. Else there might be a float vs double expectation error during runtime. Make them into a dataset using TensorDataset. Convert the dataset into loadable batches using Dataloader."
   ]
  },
  {
   "cell_type": "code",
   "execution_count": 12,
   "metadata": {},
   "outputs": [],
   "source": [
    "inputs = torch.from_numpy(x).float()\n",
    "targets = torch.from_numpy(y).float()\n",
    "ds = TensorDataset(inputs,targets)\n",
    "dl = DataLoader(ds,batch_size=5,shuffle=True)"
   ]
  },
  {
   "cell_type": "markdown",
   "metadata": {},
   "source": [
    "### Provide a Loss Function and Optimizer"
   ]
  },
  {
   "cell_type": "markdown",
   "metadata": {},
   "source": [
    "We will import torch.nn.functional and use the inbuilt mean squared error loss function for the model. For Optimizing the weights using gradient descent, let's use the Stochastic Gradient Descent. To the optimizer, we will pass in the parameters (model.parameters()) that needs to be optimized along with a learning rate."
   ]
  },
  {
   "cell_type": "code",
   "execution_count": 13,
   "metadata": {},
   "outputs": [],
   "source": [
    "import torch.nn.functional as F\n",
    "loss_fn = F.mse_loss\n",
    "opt = torch.optim.SGD(model.parameters(),lr=0.001)"
   ]
  },
  {
   "cell_type": "markdown",
   "metadata": {},
   "source": [
    "### Define a Fit Function to run epochs and fit the model\n",
    "\n",
    "The dataloader will provide the datasets into batches of size equal to barch_size. Each batch will run through the model and the prediction from the model will be evaluated against actual for the loss function. The optimizer will step in and try to miminize the loss using gradient descent (Stochastic Gradient Descent) and update the weight and bias accordingly"
   ]
  },
  {
   "cell_type": "code",
   "execution_count": 14,
   "metadata": {},
   "outputs": [],
   "source": [
    "def fit(num_epochs,model,loss_fn,opt,dl):\n",
    "    for i in range(num_epochs):\n",
    "        for xb,yb in dl:\n",
    "            y_hat = model(xb)\n",
    "            loss = loss_fn(y_hat,yb)\n",
    "            loss.backward()\n",
    "            opt.step()\n",
    "            opt.zero_grad()\n",
    "        if (i+1)%100 == 0:\n",
    "            print('Epoch : {}/{} Loss: {}'.format((i+1),num_epochs,loss.item()))"
   ]
  },
  {
   "cell_type": "code",
   "execution_count": 15,
   "metadata": {},
   "outputs": [
    {
     "name": "stdout",
     "output_type": "stream",
     "text": [
      "Epoch : 100/2000 Loss: 14.031156539916992\n",
      "Epoch : 200/2000 Loss: 4.688273906707764\n",
      "Epoch : 300/2000 Loss: 1.7572728395462036\n",
      "Epoch : 400/2000 Loss: 0.6296080946922302\n",
      "Epoch : 500/2000 Loss: 0.44638916850090027\n",
      "Epoch : 600/2000 Loss: 0.035911038517951965\n",
      "Epoch : 700/2000 Loss: 0.21748749911785126\n",
      "Epoch : 800/2000 Loss: 0.23487326502799988\n",
      "Epoch : 900/2000 Loss: 0.06348700076341629\n",
      "Epoch : 1000/2000 Loss: 0.20026063919067383\n",
      "Epoch : 1100/2000 Loss: 0.0715322345495224\n",
      "Epoch : 1200/2000 Loss: 0.1879182904958725\n",
      "Epoch : 1300/2000 Loss: 0.09343786537647247\n",
      "Epoch : 1400/2000 Loss: 0.16358056664466858\n",
      "Epoch : 1500/2000 Loss: 0.1835360825061798\n",
      "Epoch : 1600/2000 Loss: 0.05917071923613548\n",
      "Epoch : 1700/2000 Loss: 0.04424233362078667\n",
      "Epoch : 1800/2000 Loss: 0.05727547034621239\n",
      "Epoch : 1900/2000 Loss: 0.04942456632852554\n",
      "Epoch : 2000/2000 Loss: 0.13344065845012665\n"
     ]
    }
   ],
   "source": [
    "fit(5000,model,loss_fn,opt,dl)"
   ]
  },
  {
   "cell_type": "code",
   "execution_count": 16,
   "metadata": {},
   "outputs": [
    {
     "name": "stdout",
     "output_type": "stream",
     "text": [
      "Parameter containing:\n",
      "tensor([[3.2337]], requires_grad=True)\n",
      "Parameter containing:\n",
      "tensor([4.1381], requires_grad=True)\n"
     ]
    },
    {
     "data": {
      "text/plain": [
       "(None, None)"
      ]
     },
     "execution_count": 16,
     "metadata": {},
     "output_type": "execute_result"
    }
   ],
   "source": [
    "print(model.weight),print(model.bias)"
   ]
  }
 ],
 "metadata": {
  "kernelspec": {
   "display_name": "Python [conda env:PyTF]",
   "language": "python",
   "name": "conda-env-PyTF-py"
  },
  "language_info": {
   "codemirror_mode": {
    "name": "ipython",
    "version": 3
   },
   "file_extension": ".py",
   "mimetype": "text/x-python",
   "name": "python",
   "nbconvert_exporter": "python",
   "pygments_lexer": "ipython3",
   "version": "3.7.2"
  }
 },
 "nbformat": 4,
 "nbformat_minor": 2
}
